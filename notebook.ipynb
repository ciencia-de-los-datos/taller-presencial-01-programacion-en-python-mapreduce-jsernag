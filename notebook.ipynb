{
 "cells": [
  {
   "cell_type": "code",
   "execution_count": null,
   "metadata": {},
   "outputs": [],
   "source": [
    "import fileinput\n",
    "import glob\n",
    "\n",
    "\n",
    "def load_input(input_directory):\n",
    "\n",
    "    dir_path = input_directory + \"/*\"\n",
    "    filenames = glob.glob(dir_path)\n",
    "\n",
    "    sequence =[]\n",
    "    with fileinput.input(files=filenames) as f:\n",
    "        for line in f:\n",
    "            sequence.append((fileinput.filename(), line))\n",
    "    return sequence\n",
    "\n",
    "\n"
   ]
  },
  {
   "cell_type": "code",
   "execution_count": null,
   "metadata": {},
   "outputs": [],
   "source": [
    "def mapper(sequence):\n",
    "\n",
    "    new_sequence = []\n",
    "    for _, text in sequence:\n",
    "        for word in text.split():\n",
    "            tupla = (word, 1)\n",
    "            new_sequence.append(tupla)\n",
    "\n",
    "    return new_sequence\n"
   ]
  },
  {
   "cell_type": "code",
   "execution_count": null,
   "metadata": {},
   "outputs": [],
   "source": [
    "def shuffle_and_sort(sequence):\n",
    "\n",
    "    new_sequence = sorted(sequence, key=lambda x: x[0])\n",
    "    return new_sequence\n",
    "\n"
   ]
  },
  {
   "cell_type": "code",
   "execution_count": null,
   "metadata": {},
   "outputs": [],
   "source": [
    "def reducer(sequence):\n",
    "    \n",
    "    diccionario = {}\n",
    "    # for key, value in sequence:\n",
    "    #     if key not in diccionario.keys():\n",
    "    #         diccionario[key] = []\n",
    "    #     diccionario[key].append(value)\n",
    "\n",
    "    # new_sequence = []\n",
    "    # for key, value in diccionario.items():\n",
    "    #     tupla = (key, sum(value))\n",
    "    #     new_sequence.append(tupla)\n",
    "\n",
    "    # return new_sequence\n",
    "\n",
    "\n",
    "    for key, value in sequence:\n",
    "        if key not in diccionario.keys():\n",
    "            diccionario[key] = 0\n",
    "        diccionario[key] += value\n",
    "\n",
    "    new_sequence = []\n",
    "    for key, value in diccionario.items():\n",
    "        tupla = (key, value)\n",
    "        new_sequence.append(tupla)\n",
    "\n",
    "    return new_sequence  \n",
    "\n",
    "\n"
   ]
  },
  {
   "cell_type": "code",
   "execution_count": null,
   "metadata": {},
   "outputs": [],
   "source": [
    "import os.path\n",
    "\n",
    "def create_ouptput_directory(output_directory):\n",
    "    \n",
    "    if os.path.exists(output_directory):\n",
    "        raise FileExistsError(f\"The directory '{output_directory}' already exists.\")\n",
    "    os.makedirs(output_directory)\n",
    "\n",
    "\n",
    "\n",
    "\n",
    "\n",
    "# sequence = load_input(\"input\")\n",
    "# sequence = mapper(sequence)\n",
    "# sequence = shuffle_and_sort(sequence)\n",
    "# sequence = reducer(sequence)\n",
    "# create_ouptput_directory(\"output\")"
   ]
  },
  {
   "cell_type": "code",
   "execution_count": null,
   "metadata": {},
   "outputs": [],
   "source": [
    "def save_output(output_directory, sequence):\n",
    "    with open(output_directory + \"/part-00000\", \"w\") as file:\n",
    "        for key, value in sequence:\n",
    "            file.write(f\"{key}\\t{value}\\n\")\n",
    "\n"
   ]
  },
  {
   "cell_type": "code",
   "execution_count": null,
   "metadata": {},
   "outputs": [],
   "source": [
    "#\n",
    "# La siguiente función crea un archivo llamado _SUCCESS en el directorio\n",
    "# entregado como parámetro.\n",
    "#\n",
    "def create_marker(output_directory):\n",
    "    with open(output_directory + \"/_SUCCESS\", \"w\") as file:\n",
    "        file.write(\"\")\n",
    "\n",
    "\n",
    "# sequence = load_input(\"input\")\n",
    "# sequence = mapper(sequence)\n",
    "# sequence = shuffle_and_sort(sequence)\n",
    "# sequence = reducer(sequence)\n",
    "# create_ouptput_directory(\"output\")\n",
    "# save_output(\"output\", sequence)\n",
    "# create_marker(\"output\")"
   ]
  },
  {
   "cell_type": "code",
   "execution_count": null,
   "metadata": {},
   "outputs": [],
   "source": [
    "def job(input_directory, output_directory):\n",
    "    sequence = load_input(\"input\")\n",
    "    sequence = mapper(sequence)\n",
    "    sequence = shuffle_and_sort(sequence)\n",
    "    sequence = reducer(sequence)\n",
    "    create_ouptput_directory(\"output\")\n",
    "    save_output(\"output\", sequence)\n",
    "    create_marker(\"output\")\n"
   ]
  },
  {
   "cell_type": "code",
   "execution_count": null,
   "metadata": {},
   "outputs": [],
   "source": [
    "if __name__ == \"__main__\":\n",
    "    job(\n",
    "        \"input\",\n",
    "        \"output\",\n",
    "    )\n"
   ]
  }
 ],
 "metadata": {
  "kernelspec": {
   "display_name": "Python 3",
   "language": "python",
   "name": "python3"
  },
  "language_info": {
   "codemirror_mode": {
    "name": "ipython",
    "version": 3
   },
   "file_extension": ".py",
   "mimetype": "text/x-python",
   "name": "python",
   "nbconvert_exporter": "python",
   "pygments_lexer": "ipython3",
   "version": "3.11.8"
  }
 },
 "nbformat": 4,
 "nbformat_minor": 2
}
